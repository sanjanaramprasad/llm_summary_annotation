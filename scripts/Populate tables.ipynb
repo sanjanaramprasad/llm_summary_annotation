{
 "cells": [
  {
   "cell_type": "code",
   "execution_count": 2,
   "metadata": {},
   "outputs": [
    {
     "ename": "ModuleNotFoundError",
     "evalue": "No module named 'pandas'",
     "output_type": "error",
     "traceback": [
      "\u001b[0;31m---------------------------------------------------------------------------\u001b[0m",
      "\u001b[0;31mModuleNotFoundError\u001b[0m                       Traceback (most recent call last)",
      "Cell \u001b[0;32mIn[2], line 7\u001b[0m\n\u001b[1;32m      3\u001b[0m \u001b[39mimport\u001b[39;00m \u001b[39mre\u001b[39;00m\n\u001b[1;32m      5\u001b[0m \u001b[39mimport\u001b[39;00m \u001b[39mjson\u001b[39;00m \n\u001b[0;32m----> 7\u001b[0m \u001b[39mimport\u001b[39;00m \u001b[39mpandas\u001b[39;00m \u001b[39mas\u001b[39;00m \u001b[39mpd\u001b[39;00m \n\u001b[1;32m      8\u001b[0m \u001b[39mimport\u001b[39;00m \u001b[39msqlite3\u001b[39;00m\n",
      "\u001b[0;31mModuleNotFoundError\u001b[0m: No module named 'pandas'"
     ]
    }
   ],
   "source": [
    "import math \n",
    "import string \n",
    "import re\n",
    "\n",
    "import json \n",
    "\n",
    "import pandas as pd \n",
    "import sqlite3"
   ]
  },
  {
   "cell_type": "code",
   "execution_count": 9,
   "metadata": {},
   "outputs": [],
   "source": [
    "filepath = '/home/ramprasad.sa/factual_annotation_llm_summaries/generated_summaries/xsum_summaries_gpt-3.5-turbo-0301.csv'"
   ]
  },
  {
   "cell_type": "code",
   "execution_count": 10,
   "metadata": {},
   "outputs": [
    {
     "data": {
      "text/html": [
       "<div>\n",
       "<style scoped>\n",
       "    .dataframe tbody tr th:only-of-type {\n",
       "        vertical-align: middle;\n",
       "    }\n",
       "\n",
       "    .dataframe tbody tr th {\n",
       "        vertical-align: top;\n",
       "    }\n",
       "\n",
       "    .dataframe thead th {\n",
       "        text-align: right;\n",
       "    }\n",
       "</style>\n",
       "<table border=\"1\" class=\"dataframe\">\n",
       "  <thead>\n",
       "    <tr style=\"text-align: right;\">\n",
       "      <th></th>\n",
       "      <th>Unnamed: 0</th>\n",
       "      <th>Unnamed: 0.1</th>\n",
       "      <th>article</th>\n",
       "      <th>dataset</th>\n",
       "      <th>Faithful Summary</th>\n",
       "      <th>Generic Summary</th>\n",
       "      <th>summ_id</th>\n",
       "    </tr>\n",
       "  </thead>\n",
       "  <tbody>\n",
       "    <tr>\n",
       "      <th>0</th>\n",
       "      <td>0</td>\n",
       "      <td>0</td>\n",
       "      <td>With three defeats in his previous six bouts, ...</td>\n",
       "      <td>xsum</td>\n",
       "      <td>Scottish boxer Ricky Burns has become the firs...</td>\n",
       "      <td>Scottish boxer Ricky Burns has won his third w...</td>\n",
       "      <td>bcb74d62d4ea11edaf5f1b63c3919b11</td>\n",
       "    </tr>\n",
       "    <tr>\n",
       "      <th>1</th>\n",
       "      <td>1</td>\n",
       "      <td>1</td>\n",
       "      <td>The 25-year-old man reportedly calls himself H...</td>\n",
       "      <td>xsum</td>\n",
       "      <td>A man believed to be in his mid-20s has been s...</td>\n",
       "      <td>A 25-year-old man named Harald Hitler has been...</td>\n",
       "      <td>bcb74f88d4ea11edaf5f1b63c3919b11</td>\n",
       "    </tr>\n",
       "    <tr>\n",
       "      <th>2</th>\n",
       "      <td>2</td>\n",
       "      <td>2</td>\n",
       "      <td>Kamal C Chavara was detained by the police in ...</td>\n",
       "      <td>xsum</td>\n",
       "      <td>Indian writer-activist Kamal C Chavara has bee...</td>\n",
       "      <td>An Indian writer-activist has been detained an...</td>\n",
       "      <td>bcb75046d4ea11edaf5f1b63c3919b11</td>\n",
       "    </tr>\n",
       "    <tr>\n",
       "      <th>3</th>\n",
       "      <td>3</td>\n",
       "      <td>3</td>\n",
       "      <td>Mr Roache, who is secretary of the union's Yor...</td>\n",
       "      <td>xsum</td>\n",
       "      <td>Tim Roache has been elected as the new general...</td>\n",
       "      <td>Tim Roache has been elected as the new general...</td>\n",
       "      <td>bcb750d2d4ea11edaf5f1b63c3919b11</td>\n",
       "    </tr>\n",
       "    <tr>\n",
       "      <th>4</th>\n",
       "      <td>4</td>\n",
       "      <td>4</td>\n",
       "      <td>The group, reported to be three men, two women...</td>\n",
       "      <td>xsum</td>\n",
       "      <td>A British family, including four children aged...</td>\n",
       "      <td>A group of nine Britons, including four childr...</td>\n",
       "      <td>bcb751f4d4ea11edaf5f1b63c3919b11</td>\n",
       "    </tr>\n",
       "    <tr>\n",
       "      <th>...</th>\n",
       "      <td>...</td>\n",
       "      <td>...</td>\n",
       "      <td>...</td>\n",
       "      <td>...</td>\n",
       "      <td>...</td>\n",
       "      <td>...</td>\n",
       "      <td>...</td>\n",
       "    </tr>\n",
       "    <tr>\n",
       "      <th>95</th>\n",
       "      <td>95</td>\n",
       "      <td>95</td>\n",
       "      <td>Inspectors criticised teaching and leadership ...</td>\n",
       "      <td>xsum</td>\n",
       "      <td>Four schools run by the Telford Co-operative M...</td>\n",
       "      <td>The Telford Co-operative Multi-Academy Trust h...</td>\n",
       "      <td>bcb77c56d4ea11edaf5f1b63c3919b11</td>\n",
       "    </tr>\n",
       "    <tr>\n",
       "      <th>96</th>\n",
       "      <td>96</td>\n",
       "      <td>96</td>\n",
       "      <td>Speaking to the Atlantic magazine, he said the...</td>\n",
       "      <td>xsum</td>\n",
       "      <td>US President Barack Obama has criticised Prime...</td>\n",
       "      <td>US President Barack Obama has criticised Briti...</td>\n",
       "      <td>bcb77cc4d4ea11edaf5f1b63c3919b11</td>\n",
       "    </tr>\n",
       "    <tr>\n",
       "      <th>97</th>\n",
       "      <td>97</td>\n",
       "      <td>97</td>\n",
       "      <td>The Labour authority voted in favour of changi...</td>\n",
       "      <td>xsum</td>\n",
       "      <td>Durham County Council has voted to cut the pay...</td>\n",
       "      <td>Durham County Council has voted to reduce 2,70...</td>\n",
       "      <td>bcb77d32d4ea11edaf5f1b63c3919b11</td>\n",
       "    </tr>\n",
       "    <tr>\n",
       "      <th>98</th>\n",
       "      <td>98</td>\n",
       "      <td>98</td>\n",
       "      <td>She was hurt when the MR-01 race car she was d...</td>\n",
       "      <td>xsum</td>\n",
       "      <td>Maria de Villota, a 32-year-old female racing ...</td>\n",
       "      <td>Maria de Villota, a Formula 1 test driver for ...</td>\n",
       "      <td>bcb77da0d4ea11edaf5f1b63c3919b11</td>\n",
       "    </tr>\n",
       "    <tr>\n",
       "      <th>99</th>\n",
       "      <td>99</td>\n",
       "      <td>99</td>\n",
       "      <td>BHS entered administration in April. Since the...</td>\n",
       "      <td>xsum</td>\n",
       "      <td>Retail veterans are in a race to save BHS from...</td>\n",
       "      <td>Greg Tufnell, retail veteran and managing dire...</td>\n",
       "      <td>bcb77fb2d4ea11edaf5f1b63c3919b11</td>\n",
       "    </tr>\n",
       "  </tbody>\n",
       "</table>\n",
       "<p>100 rows × 7 columns</p>\n",
       "</div>"
      ],
      "text/plain": [
       "    Unnamed: 0  Unnamed: 0.1  \\\n",
       "0            0             0   \n",
       "1            1             1   \n",
       "2            2             2   \n",
       "3            3             3   \n",
       "4            4             4   \n",
       "..         ...           ...   \n",
       "95          95            95   \n",
       "96          96            96   \n",
       "97          97            97   \n",
       "98          98            98   \n",
       "99          99            99   \n",
       "\n",
       "                                              article dataset  \\\n",
       "0   With three defeats in his previous six bouts, ...    xsum   \n",
       "1   The 25-year-old man reportedly calls himself H...    xsum   \n",
       "2   Kamal C Chavara was detained by the police in ...    xsum   \n",
       "3   Mr Roache, who is secretary of the union's Yor...    xsum   \n",
       "4   The group, reported to be three men, two women...    xsum   \n",
       "..                                                ...     ...   \n",
       "95  Inspectors criticised teaching and leadership ...    xsum   \n",
       "96  Speaking to the Atlantic magazine, he said the...    xsum   \n",
       "97  The Labour authority voted in favour of changi...    xsum   \n",
       "98  She was hurt when the MR-01 race car she was d...    xsum   \n",
       "99  BHS entered administration in April. Since the...    xsum   \n",
       "\n",
       "                                     Faithful Summary  \\\n",
       "0   Scottish boxer Ricky Burns has become the firs...   \n",
       "1   A man believed to be in his mid-20s has been s...   \n",
       "2   Indian writer-activist Kamal C Chavara has bee...   \n",
       "3   Tim Roache has been elected as the new general...   \n",
       "4   A British family, including four children aged...   \n",
       "..                                                ...   \n",
       "95  Four schools run by the Telford Co-operative M...   \n",
       "96  US President Barack Obama has criticised Prime...   \n",
       "97  Durham County Council has voted to cut the pay...   \n",
       "98  Maria de Villota, a 32-year-old female racing ...   \n",
       "99  Retail veterans are in a race to save BHS from...   \n",
       "\n",
       "                                      Generic Summary  \\\n",
       "0   Scottish boxer Ricky Burns has won his third w...   \n",
       "1   A 25-year-old man named Harald Hitler has been...   \n",
       "2   An Indian writer-activist has been detained an...   \n",
       "3   Tim Roache has been elected as the new general...   \n",
       "4   A group of nine Britons, including four childr...   \n",
       "..                                                ...   \n",
       "95  The Telford Co-operative Multi-Academy Trust h...   \n",
       "96  US President Barack Obama has criticised Briti...   \n",
       "97  Durham County Council has voted to reduce 2,70...   \n",
       "98  Maria de Villota, a Formula 1 test driver for ...   \n",
       "99  Greg Tufnell, retail veteran and managing dire...   \n",
       "\n",
       "                             summ_id  \n",
       "0   bcb74d62d4ea11edaf5f1b63c3919b11  \n",
       "1   bcb74f88d4ea11edaf5f1b63c3919b11  \n",
       "2   bcb75046d4ea11edaf5f1b63c3919b11  \n",
       "3   bcb750d2d4ea11edaf5f1b63c3919b11  \n",
       "4   bcb751f4d4ea11edaf5f1b63c3919b11  \n",
       "..                               ...  \n",
       "95  bcb77c56d4ea11edaf5f1b63c3919b11  \n",
       "96  bcb77cc4d4ea11edaf5f1b63c3919b11  \n",
       "97  bcb77d32d4ea11edaf5f1b63c3919b11  \n",
       "98  bcb77da0d4ea11edaf5f1b63c3919b11  \n",
       "99  bcb77fb2d4ea11edaf5f1b63c3919b11  \n",
       "\n",
       "[100 rows x 7 columns]"
      ]
     },
     "execution_count": 10,
     "metadata": {},
     "output_type": "execute_result"
    }
   ],
   "source": [
    "df = pd.read_csv(filepath)\n",
    "df"
   ]
  },
  {
   "cell_type": "code",
   "execution_count": 11,
   "metadata": {},
   "outputs": [
    {
     "data": {
      "text/plain": [
       "'8dc1c9ded4ee11ed9648b7178ea1f8cf'"
      ]
     },
     "execution_count": 11,
     "metadata": {},
     "output_type": "execute_result"
    }
   ],
   "source": [
    "import uuid\n",
    "  \n",
    "uuid.uuid1().hex"
   ]
  },
  {
   "cell_type": "code",
   "execution_count": 12,
   "metadata": {},
   "outputs": [],
   "source": [
    "# unique_ids = [uuid.uuid1().hex for i in range(0, len(df))]\n",
    "# df['summ_id'] = unique_ids\n",
    "# df.to_csv(filepath)"
   ]
  },
  {
   "cell_type": "code",
   "execution_count": 18,
   "metadata": {},
   "outputs": [],
   "source": [
    "db_path = \"../data/summaries_test.db\"  \n",
    "def connect_to_db():\n",
    "    conn = sqlite3.connect(db_path)\n",
    "    c = conn.cursor()\n",
    "    return conn, c \n",
    "conn, c = connect_to_db()"
   ]
  },
  {
   "cell_type": "code",
   "execution_count": 16,
   "metadata": {},
   "outputs": [
    {
     "name": "stdout",
     "output_type": "stream",
     "text": [
      "Added 99 generated summaries\n"
     ]
    }
   ],
   "source": [
    "for idx, row in df.iterrows():\n",
    "    summ_uuid = row['summ_id']\n",
    "    summ_id = 'xsum_generic'\n",
    "    system_id = 'gpt3.5_turbo'\n",
    "    article = row['article']\n",
    "    generic_summary = row['Generic Summary']\n",
    "    faithful_summary = row['Faithful Summary']\n",
    "    c.execute(\"\"\"INSERT INTO generated_summaries (summary_uuid, summ_id, system_id, summary, article) VALUES (?, ?, ?, ?, ?)\"\"\",\n",
    "                                                        (summ_uuid, \n",
    "                                                        summ_id,\n",
    "                                                        system_id,\n",
    "                                                        generic_summary,\n",
    "                                                        article))\n",
    "print('Added %d generated summaries'%(idx))\n",
    "conn.commit()\n",
    "# conn.close()\n",
    "    "
   ]
  },
  {
   "cell_type": "code",
   "execution_count": 27,
   "metadata": {},
   "outputs": [],
   "source": [
    "next_uuid = c.execute('''SELECT uuid FROM generated_summaries WHERE NOT EXISTS (\n",
    "                    SELECT * FROM label WHERE generated_summaries.summary_uuid = label.summary_uuid) \n",
    "                      ORDER BY uuid, RANDOM() LIMIT 1;''').fetchone()"
   ]
  },
  {
   "cell_type": "code",
   "execution_count": 28,
   "metadata": {},
   "outputs": [
    {
     "data": {
      "text/plain": [
       "(1,)"
      ]
     },
     "execution_count": 28,
     "metadata": {},
     "output_type": "execute_result"
    }
   ],
   "source": [
    "next_uuid"
   ]
  },
  {
   "cell_type": "code",
   "execution_count": 35,
   "metadata": {},
   "outputs": [],
   "source": [
    "summary_uuid = c.execute(\"\"\"SELECT summary_uuid FROM generated_summaries where uuid='{}';\"\"\".format(next_uuid[0])).fetchone()\n",
    "    \n",
    "    "
   ]
  },
  {
   "cell_type": "code",
   "execution_count": 36,
   "metadata": {},
   "outputs": [
    {
     "data": {
      "text/plain": [
       "('bcb74d62d4ea11edaf5f1b63c3919b11',)"
      ]
     },
     "execution_count": 36,
     "metadata": {},
     "output_type": "execute_result"
    }
   ],
   "source": [
    "summary_uuid"
   ]
  },
  {
   "cell_type": "code",
   "execution_count": 43,
   "metadata": {},
   "outputs": [],
   "source": [
    "article, summary = c.execute(\"\"\"SELECT article, summary FROM generated_summaries where summary_uuid='{}';\"\"\".format(summary_uuid[0])).fetchone()\n"
   ]
  },
  {
   "cell_type": "code",
   "execution_count": 44,
   "metadata": {},
   "outputs": [
    {
     "data": {
      "text/plain": [
       "'With three defeats in his previous six bouts, the Scottish boxer\\'s career seemed to be on the wane. But his power, timing and focus returned in a supremely confident display at Glasgow\\'s Hydro on Saturday night as he clinched the vacant WBA World Super-Lightweight title - and entered the record books as the first Scot to win world titles at three weights. Italy\\'s Michele Di Rocco, at 34 a year older than Burns, hadn\\'t lost a fight since September 2007. He arrived with a record of 40 wins and a draw from 42 bouts. He left a lesser figure. The referee deemed the man from Assisi to be in no state to continue in the eighth round, the result of a welter of blows to his head and body and made all the more unbearable by the hostile acoustic energy generated by 8,000 Scottish fans. Surely, for Burns, this was time to shout about his record, the ideal moment to counter all those who had written him off and questioned the wisdom of him leaving trainer Billy Nelson two years ago to work with Tony Sim in Essex? No. Instead, the champion spoke of his disbelief at the ease of his victory, his gratitude that he was safe, of his thanks to promoter Eddie Hearn, manager Alex Morrison and coach Sim for believing in him, and of his desire to celebrate with a fast-food burger and 20 chicken nuggets. \"When I got in the ring after the fight, I said, \\'You\\'ve done it! You\\'ve done it!\\',\" reported a beaming Hearn at the post-fight media conference. \"And you know what Ricky said? \\'Can you get a picture with me and Michael Buffer [the legendary American boxing ring announcer]?\\'\" When he has time to reflect during a well-earned holiday, Burns will take immense satisfaction at being only the third British-born fighter, after Bob Fitzsimmons and Duke McKenzie, to be a three-weight world champion. In Scottish terms, his achievements must mean that he is in the very top tier of boxing greats, comfortably mentioned in the same breath as former world champions Benny Lynch, Walter McGowan, Jackie Paterson, Ken Buchanan and Jim Watt, for example. Burns\\' record stands at 40 wins from 46 bouts. Remarkably, 11 of those have been world title fights. Buchanan\\'s exploits in the United States add lustre to his legacy, but while Burns may never have fought someone like Roberto Duran, should Hearn manage to set up a bout against Cincinnati\\'s Adrien Broner, the four-time world champion stripped of the WBA title because he could not make the weight, then Burns could achieve little more in the sport. \"There are some big fights out there for me,\" said Burns. \"I want to fight the top names. I will fight anybody. I do super-lightweight comfortably and lightweight is still an option. I would fight Terence Crawford again if it came down to it. \"That\\'s nearly two years I have been with Tony and things have just started clicking. \"I had a bit of a bad run in the last year with stuff.'"
      ]
     },
     "execution_count": 44,
     "metadata": {},
     "output_type": "execute_result"
    }
   ],
   "source": [
    "article"
   ]
  },
  {
   "cell_type": "code",
   "execution_count": null,
   "metadata": {},
   "outputs": [],
   "source": []
  }
 ],
 "metadata": {
  "kernelspec": {
   "display_name": "Python 3 (ipykernel)",
   "language": "python",
   "name": "python3"
  },
  "language_info": {
   "codemirror_mode": {
    "name": "ipython",
    "version": 3
   },
   "file_extension": ".py",
   "mimetype": "text/x-python",
   "name": "python",
   "nbconvert_exporter": "python",
   "pygments_lexer": "ipython3",
   "version": "3.8.13"
  }
 },
 "nbformat": 4,
 "nbformat_minor": 4
}
